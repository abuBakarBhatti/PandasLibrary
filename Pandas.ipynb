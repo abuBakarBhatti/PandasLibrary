{
 "cells": [
  {
   "cell_type": "markdown",
   "metadata": {},
   "source": [
    "# Pandas Library Basics\n",
    "We are going to learn how to use Pandas library, how to install and some baics as well.\n",
    "## How to install Pandas Library"
   ]
  },
  {
   "cell_type": "code",
   "execution_count": null,
   "metadata": {},
   "outputs": [],
   "source": [
    "# Write the following code in order to install Pandas library in your machine\n",
    "#pip install pandas\n"
   ]
  },
  {
   "cell_type": "markdown",
   "metadata": {},
   "source": [
    "## Importing Pandas as \"pd\" and Numpy as \"np\""
   ]
  },
  {
   "cell_type": "code",
   "execution_count": null,
   "metadata": {},
   "outputs": [],
   "source": [
    "import pandas as pd\n",
    "import numpy as np"
   ]
  },
  {
   "cell_type": "markdown",
   "metadata": {},
   "source": [
    "## Creating an object of Pandas"
   ]
  },
  {
   "cell_type": "code",
   "execution_count": null,
   "metadata": {},
   "outputs": [],
   "source": [
    "obj = pd.Series([1,2,3,4,5,7,8,9,10])\n",
    "obj"
   ]
  },
  {
   "cell_type": "markdown",
   "metadata": {},
   "source": [
    "## Creating Date Object in Pandas"
   ]
  },
  {
   "cell_type": "code",
   "execution_count": null,
   "metadata": {},
   "outputs": [],
   "source": [
    "dates = pd.date_range(\"20230401\", periods=15)\n",
    "dates"
   ]
  },
  {
   "cell_type": "markdown",
   "metadata": {},
   "source": [
    "## Creating a Data Frame with random values of dates(It's interesting)"
   ]
  },
  {
   "cell_type": "code",
   "execution_count": null,
   "metadata": {},
   "outputs": [],
   "source": [
    "df = pd.DataFrame(np.random.randn(15, 4), index = dates, columns=list(\"ABCD\"))\n",
    "df"
   ]
  },
  {
   "cell_type": "markdown",
   "metadata": {},
   "source": [
    "## Conveting the Above data into Numpy Array"
   ]
  },
  {
   "cell_type": "code",
   "execution_count": null,
   "metadata": {},
   "outputs": [],
   "source": [
    "df.to_numpy()"
   ]
  },
  {
   "cell_type": "markdown",
   "metadata": {},
   "source": [
    "## Describe Function"
   ]
  },
  {
   "cell_type": "code",
   "execution_count": null,
   "metadata": {},
   "outputs": [],
   "source": [
    "df.describe()"
   ]
  },
  {
   "cell_type": "markdown",
   "metadata": {},
   "source": [
    "## Data Transpose( For reff: Transpose of a Matrix)"
   ]
  },
  {
   "cell_type": "code",
   "execution_count": null,
   "metadata": {},
   "outputs": [],
   "source": [
    "df.T"
   ]
  },
  {
   "cell_type": "markdown",
   "metadata": {},
   "source": [
    "## Asscending Data(Sorting)"
   ]
  },
  {
   "cell_type": "code",
   "execution_count": null,
   "metadata": {},
   "outputs": [],
   "source": [
    "df.sort_index(axis=1, ascending= True)"
   ]
  },
  {
   "cell_type": "markdown",
   "metadata": {},
   "source": [
    "## Sorting By Value\n",
    "If we want to sort any data frame accoring to a specific column"
   ]
  },
  {
   "cell_type": "code",
   "execution_count": 42,
   "metadata": {},
   "outputs": [
    {
     "data": {
      "text/html": [
       "<div>\n",
       "<style scoped>\n",
       "    .dataframe tbody tr th:only-of-type {\n",
       "        vertical-align: middle;\n",
       "    }\n",
       "\n",
       "    .dataframe tbody tr th {\n",
       "        vertical-align: top;\n",
       "    }\n",
       "\n",
       "    .dataframe thead th {\n",
       "        text-align: right;\n",
       "    }\n",
       "</style>\n",
       "<table border=\"1\" class=\"dataframe\">\n",
       "  <thead>\n",
       "    <tr style=\"text-align: right;\">\n",
       "      <th></th>\n",
       "      <th>A</th>\n",
       "      <th>B</th>\n",
       "      <th>C</th>\n",
       "      <th>D</th>\n",
       "    </tr>\n",
       "  </thead>\n",
       "  <tbody>\n",
       "    <tr>\n",
       "      <th>2023-04-12</th>\n",
       "      <td>0.512581</td>\n",
       "      <td>-1.957038</td>\n",
       "      <td>-0.181653</td>\n",
       "      <td>1.266624</td>\n",
       "    </tr>\n",
       "    <tr>\n",
       "      <th>2023-04-07</th>\n",
       "      <td>-1.031351</td>\n",
       "      <td>-1.758079</td>\n",
       "      <td>-1.608343</td>\n",
       "      <td>0.401359</td>\n",
       "    </tr>\n",
       "    <tr>\n",
       "      <th>2023-04-04</th>\n",
       "      <td>0.885524</td>\n",
       "      <td>-1.705594</td>\n",
       "      <td>1.320365</td>\n",
       "      <td>0.814354</td>\n",
       "    </tr>\n",
       "    <tr>\n",
       "      <th>2023-04-02</th>\n",
       "      <td>0.398491</td>\n",
       "      <td>-1.531123</td>\n",
       "      <td>-0.589833</td>\n",
       "      <td>0.545911</td>\n",
       "    </tr>\n",
       "    <tr>\n",
       "      <th>2023-04-03</th>\n",
       "      <td>0.310490</td>\n",
       "      <td>-1.139149</td>\n",
       "      <td>0.269000</td>\n",
       "      <td>-0.706085</td>\n",
       "    </tr>\n",
       "    <tr>\n",
       "      <th>2023-04-15</th>\n",
       "      <td>0.002587</td>\n",
       "      <td>-1.013163</td>\n",
       "      <td>-0.190435</td>\n",
       "      <td>1.311750</td>\n",
       "    </tr>\n",
       "    <tr>\n",
       "      <th>2023-04-11</th>\n",
       "      <td>-2.056369</td>\n",
       "      <td>-0.586400</td>\n",
       "      <td>1.349013</td>\n",
       "      <td>1.316915</td>\n",
       "    </tr>\n",
       "    <tr>\n",
       "      <th>2023-04-13</th>\n",
       "      <td>-0.796304</td>\n",
       "      <td>-0.095104</td>\n",
       "      <td>-2.166014</td>\n",
       "      <td>0.639583</td>\n",
       "    </tr>\n",
       "    <tr>\n",
       "      <th>2023-04-14</th>\n",
       "      <td>-0.200340</td>\n",
       "      <td>0.565396</td>\n",
       "      <td>-0.231558</td>\n",
       "      <td>1.068731</td>\n",
       "    </tr>\n",
       "    <tr>\n",
       "      <th>2023-04-10</th>\n",
       "      <td>0.369280</td>\n",
       "      <td>0.568641</td>\n",
       "      <td>-1.213805</td>\n",
       "      <td>0.195680</td>\n",
       "    </tr>\n",
       "    <tr>\n",
       "      <th>2023-04-09</th>\n",
       "      <td>-0.843951</td>\n",
       "      <td>0.589519</td>\n",
       "      <td>-0.381381</td>\n",
       "      <td>-0.760275</td>\n",
       "    </tr>\n",
       "    <tr>\n",
       "      <th>2023-04-05</th>\n",
       "      <td>-1.944534</td>\n",
       "      <td>0.608699</td>\n",
       "      <td>-0.431342</td>\n",
       "      <td>0.748218</td>\n",
       "    </tr>\n",
       "    <tr>\n",
       "      <th>2023-04-08</th>\n",
       "      <td>0.273298</td>\n",
       "      <td>0.616606</td>\n",
       "      <td>0.799361</td>\n",
       "      <td>0.280626</td>\n",
       "    </tr>\n",
       "    <tr>\n",
       "      <th>2023-04-06</th>\n",
       "      <td>0.223783</td>\n",
       "      <td>0.905702</td>\n",
       "      <td>1.065765</td>\n",
       "      <td>0.795471</td>\n",
       "    </tr>\n",
       "    <tr>\n",
       "      <th>2023-04-01</th>\n",
       "      <td>0.153053</td>\n",
       "      <td>0.907613</td>\n",
       "      <td>-0.354844</td>\n",
       "      <td>1.209288</td>\n",
       "    </tr>\n",
       "  </tbody>\n",
       "</table>\n",
       "</div>"
      ],
      "text/plain": [
       "                   A         B         C         D\n",
       "2023-04-12  0.512581 -1.957038 -0.181653  1.266624\n",
       "2023-04-07 -1.031351 -1.758079 -1.608343  0.401359\n",
       "2023-04-04  0.885524 -1.705594  1.320365  0.814354\n",
       "2023-04-02  0.398491 -1.531123 -0.589833  0.545911\n",
       "2023-04-03  0.310490 -1.139149  0.269000 -0.706085\n",
       "2023-04-15  0.002587 -1.013163 -0.190435  1.311750\n",
       "2023-04-11 -2.056369 -0.586400  1.349013  1.316915\n",
       "2023-04-13 -0.796304 -0.095104 -2.166014  0.639583\n",
       "2023-04-14 -0.200340  0.565396 -0.231558  1.068731\n",
       "2023-04-10  0.369280  0.568641 -1.213805  0.195680\n",
       "2023-04-09 -0.843951  0.589519 -0.381381 -0.760275\n",
       "2023-04-05 -1.944534  0.608699 -0.431342  0.748218\n",
       "2023-04-08  0.273298  0.616606  0.799361  0.280626\n",
       "2023-04-06  0.223783  0.905702  1.065765  0.795471\n",
       "2023-04-01  0.153053  0.907613 -0.354844  1.209288"
      ]
     },
     "execution_count": 42,
     "metadata": {},
     "output_type": "execute_result"
    }
   ],
   "source": [
    "df.sort_values(by=\"B\")"
   ]
  },
  {
   "cell_type": "markdown",
   "metadata": {},
   "source": [
    "## Printing Specific Rows"
   ]
  },
  {
   "cell_type": "code",
   "execution_count": 43,
   "metadata": {},
   "outputs": [
    {
     "data": {
      "text/html": [
       "<div>\n",
       "<style scoped>\n",
       "    .dataframe tbody tr th:only-of-type {\n",
       "        vertical-align: middle;\n",
       "    }\n",
       "\n",
       "    .dataframe tbody tr th {\n",
       "        vertical-align: top;\n",
       "    }\n",
       "\n",
       "    .dataframe thead th {\n",
       "        text-align: right;\n",
       "    }\n",
       "</style>\n",
       "<table border=\"1\" class=\"dataframe\">\n",
       "  <thead>\n",
       "    <tr style=\"text-align: right;\">\n",
       "      <th></th>\n",
       "      <th>A</th>\n",
       "      <th>B</th>\n",
       "      <th>C</th>\n",
       "      <th>D</th>\n",
       "    </tr>\n",
       "  </thead>\n",
       "  <tbody>\n",
       "    <tr>\n",
       "      <th>2023-04-01</th>\n",
       "      <td>0.153053</td>\n",
       "      <td>0.907613</td>\n",
       "      <td>-0.354844</td>\n",
       "      <td>1.209288</td>\n",
       "    </tr>\n",
       "    <tr>\n",
       "      <th>2023-04-02</th>\n",
       "      <td>0.398491</td>\n",
       "      <td>-1.531123</td>\n",
       "      <td>-0.589833</td>\n",
       "      <td>0.545911</td>\n",
       "    </tr>\n",
       "    <tr>\n",
       "      <th>2023-04-03</th>\n",
       "      <td>0.310490</td>\n",
       "      <td>-1.139149</td>\n",
       "      <td>0.269000</td>\n",
       "      <td>-0.706085</td>\n",
       "    </tr>\n",
       "  </tbody>\n",
       "</table>\n",
       "</div>"
      ],
      "text/plain": [
       "                   A         B         C         D\n",
       "2023-04-01  0.153053  0.907613 -0.354844  1.209288\n",
       "2023-04-02  0.398491 -1.531123 -0.589833  0.545911\n",
       "2023-04-03  0.310490 -1.139149  0.269000 -0.706085"
      ]
     },
     "execution_count": 43,
     "metadata": {},
     "output_type": "execute_result"
    }
   ],
   "source": [
    "#printing first three rows\n",
    "df[0:3]"
   ]
  },
  {
   "cell_type": "markdown",
   "metadata": {},
   "source": [
    "## If we want to print the values of all the rows"
   ]
  },
  {
   "cell_type": "code",
   "execution_count": 48,
   "metadata": {},
   "outputs": [
    {
     "data": {
      "text/plain": [
       "A    0.310490\n",
       "B   -1.139149\n",
       "C    0.269000\n",
       "D   -0.706085\n",
       "Name: 2023-04-03 00:00:00, dtype: float64"
      ]
     },
     "execution_count": 48,
     "metadata": {},
     "output_type": "execute_result"
    }
   ],
   "source": [
    "df.loc[dates[2]]"
   ]
  },
  {
   "cell_type": "markdown",
   "metadata": {},
   "source": [
    "## If we want to print the specific columns of the speific rows"
   ]
  },
  {
   "cell_type": "code",
   "execution_count": 51,
   "metadata": {},
   "outputs": [
    {
     "data": {
      "text/html": [
       "<div>\n",
       "<style scoped>\n",
       "    .dataframe tbody tr th:only-of-type {\n",
       "        vertical-align: middle;\n",
       "    }\n",
       "\n",
       "    .dataframe tbody tr th {\n",
       "        vertical-align: top;\n",
       "    }\n",
       "\n",
       "    .dataframe thead th {\n",
       "        text-align: right;\n",
       "    }\n",
       "</style>\n",
       "<table border=\"1\" class=\"dataframe\">\n",
       "  <thead>\n",
       "    <tr style=\"text-align: right;\">\n",
       "      <th></th>\n",
       "      <th>A</th>\n",
       "      <th>B</th>\n",
       "    </tr>\n",
       "  </thead>\n",
       "  <tbody>\n",
       "    <tr>\n",
       "      <th>2023-04-01</th>\n",
       "      <td>0.153053</td>\n",
       "      <td>0.907613</td>\n",
       "    </tr>\n",
       "    <tr>\n",
       "      <th>2023-04-02</th>\n",
       "      <td>0.398491</td>\n",
       "      <td>-1.531123</td>\n",
       "    </tr>\n",
       "    <tr>\n",
       "      <th>2023-04-03</th>\n",
       "      <td>0.310490</td>\n",
       "      <td>-1.139149</td>\n",
       "    </tr>\n",
       "    <tr>\n",
       "      <th>2023-04-04</th>\n",
       "      <td>0.885524</td>\n",
       "      <td>-1.705594</td>\n",
       "    </tr>\n",
       "    <tr>\n",
       "      <th>2023-04-05</th>\n",
       "      <td>-1.944534</td>\n",
       "      <td>0.608699</td>\n",
       "    </tr>\n",
       "    <tr>\n",
       "      <th>2023-04-06</th>\n",
       "      <td>0.223783</td>\n",
       "      <td>0.905702</td>\n",
       "    </tr>\n",
       "    <tr>\n",
       "      <th>2023-04-07</th>\n",
       "      <td>-1.031351</td>\n",
       "      <td>-1.758079</td>\n",
       "    </tr>\n",
       "    <tr>\n",
       "      <th>2023-04-08</th>\n",
       "      <td>0.273298</td>\n",
       "      <td>0.616606</td>\n",
       "    </tr>\n",
       "    <tr>\n",
       "      <th>2023-04-09</th>\n",
       "      <td>-0.843951</td>\n",
       "      <td>0.589519</td>\n",
       "    </tr>\n",
       "    <tr>\n",
       "      <th>2023-04-10</th>\n",
       "      <td>0.369280</td>\n",
       "      <td>0.568641</td>\n",
       "    </tr>\n",
       "    <tr>\n",
       "      <th>2023-04-11</th>\n",
       "      <td>-2.056369</td>\n",
       "      <td>-0.586400</td>\n",
       "    </tr>\n",
       "    <tr>\n",
       "      <th>2023-04-12</th>\n",
       "      <td>0.512581</td>\n",
       "      <td>-1.957038</td>\n",
       "    </tr>\n",
       "    <tr>\n",
       "      <th>2023-04-13</th>\n",
       "      <td>-0.796304</td>\n",
       "      <td>-0.095104</td>\n",
       "    </tr>\n",
       "    <tr>\n",
       "      <th>2023-04-14</th>\n",
       "      <td>-0.200340</td>\n",
       "      <td>0.565396</td>\n",
       "    </tr>\n",
       "    <tr>\n",
       "      <th>2023-04-15</th>\n",
       "      <td>0.002587</td>\n",
       "      <td>-1.013163</td>\n",
       "    </tr>\n",
       "  </tbody>\n",
       "</table>\n",
       "</div>"
      ],
      "text/plain": [
       "                   A         B\n",
       "2023-04-01  0.153053  0.907613\n",
       "2023-04-02  0.398491 -1.531123\n",
       "2023-04-03  0.310490 -1.139149\n",
       "2023-04-04  0.885524 -1.705594\n",
       "2023-04-05 -1.944534  0.608699\n",
       "2023-04-06  0.223783  0.905702\n",
       "2023-04-07 -1.031351 -1.758079\n",
       "2023-04-08  0.273298  0.616606\n",
       "2023-04-09 -0.843951  0.589519\n",
       "2023-04-10  0.369280  0.568641\n",
       "2023-04-11 -2.056369 -0.586400\n",
       "2023-04-12  0.512581 -1.957038\n",
       "2023-04-13 -0.796304 -0.095104\n",
       "2023-04-14 -0.200340  0.565396\n",
       "2023-04-15  0.002587 -1.013163"
      ]
     },
     "execution_count": 51,
     "metadata": {},
     "output_type": "execute_result"
    }
   ],
   "source": [
    "# in this example, we are printing just A and B columns of all the rows\n",
    "df.loc[:, [\"A\", \"B\"]]"
   ]
  },
  {
   "cell_type": "markdown",
   "metadata": {},
   "source": [
    "## If we want to print the values of a specific rows\n",
    "    For this, we have to specify the rows whose specific columns we want to print"
   ]
  },
  {
   "cell_type": "code",
   "execution_count": 52,
   "metadata": {},
   "outputs": [
    {
     "data": {
      "text/html": [
       "<div>\n",
       "<style scoped>\n",
       "    .dataframe tbody tr th:only-of-type {\n",
       "        vertical-align: middle;\n",
       "    }\n",
       "\n",
       "    .dataframe tbody tr th {\n",
       "        vertical-align: top;\n",
       "    }\n",
       "\n",
       "    .dataframe thead th {\n",
       "        text-align: right;\n",
       "    }\n",
       "</style>\n",
       "<table border=\"1\" class=\"dataframe\">\n",
       "  <thead>\n",
       "    <tr style=\"text-align: right;\">\n",
       "      <th></th>\n",
       "      <th>A</th>\n",
       "      <th>B</th>\n",
       "    </tr>\n",
       "  </thead>\n",
       "  <tbody>\n",
       "    <tr>\n",
       "      <th>2023-04-01</th>\n",
       "      <td>0.153053</td>\n",
       "      <td>0.907613</td>\n",
       "    </tr>\n",
       "    <tr>\n",
       "      <th>2023-04-02</th>\n",
       "      <td>0.398491</td>\n",
       "      <td>-1.531123</td>\n",
       "    </tr>\n",
       "    <tr>\n",
       "      <th>2023-04-03</th>\n",
       "      <td>0.310490</td>\n",
       "      <td>-1.139149</td>\n",
       "    </tr>\n",
       "    <tr>\n",
       "      <th>2023-04-04</th>\n",
       "      <td>0.885524</td>\n",
       "      <td>-1.705594</td>\n",
       "    </tr>\n",
       "    <tr>\n",
       "      <th>2023-04-05</th>\n",
       "      <td>-1.944534</td>\n",
       "      <td>0.608699</td>\n",
       "    </tr>\n",
       "  </tbody>\n",
       "</table>\n",
       "</div>"
      ],
      "text/plain": [
       "                   A         B\n",
       "2023-04-01  0.153053  0.907613\n",
       "2023-04-02  0.398491 -1.531123\n",
       "2023-04-03  0.310490 -1.139149\n",
       "2023-04-04  0.885524 -1.705594\n",
       "2023-04-05 -1.944534  0.608699"
      ]
     },
     "execution_count": 52,
     "metadata": {},
     "output_type": "execute_result"
    }
   ],
   "source": [
    "df.loc[\"20230401\" : \"20230405\", [\"A\", \"B\"]]"
   ]
  },
  {
   "cell_type": "markdown",
   "metadata": {},
   "source": [
    "### From above, we are using comma instead of colon, just see the difference"
   ]
  },
  {
   "cell_type": "code",
   "execution_count": 54,
   "metadata": {},
   "outputs": [
    {
     "data": {
      "text/html": [
       "<div>\n",
       "<style scoped>\n",
       "    .dataframe tbody tr th:only-of-type {\n",
       "        vertical-align: middle;\n",
       "    }\n",
       "\n",
       "    .dataframe tbody tr th {\n",
       "        vertical-align: top;\n",
       "    }\n",
       "\n",
       "    .dataframe thead th {\n",
       "        text-align: right;\n",
       "    }\n",
       "</style>\n",
       "<table border=\"1\" class=\"dataframe\">\n",
       "  <thead>\n",
       "    <tr style=\"text-align: right;\">\n",
       "      <th></th>\n",
       "      <th>A</th>\n",
       "      <th>B</th>\n",
       "    </tr>\n",
       "  </thead>\n",
       "  <tbody>\n",
       "    <tr>\n",
       "      <th>2023-04-01</th>\n",
       "      <td>0.153053</td>\n",
       "      <td>0.907613</td>\n",
       "    </tr>\n",
       "    <tr>\n",
       "      <th>2023-04-05</th>\n",
       "      <td>-1.944534</td>\n",
       "      <td>0.608699</td>\n",
       "    </tr>\n",
       "  </tbody>\n",
       "</table>\n",
       "</div>"
      ],
      "text/plain": [
       "                   A         B\n",
       "2023-04-01  0.153053  0.907613\n",
       "2023-04-05 -1.944534  0.608699"
      ]
     },
     "execution_count": 54,
     "metadata": {},
     "output_type": "execute_result"
    }
   ],
   "source": [
    "#We are printing just row 1 and row 5 specific columns\n",
    "df.loc[[\"20230401\", \"20230405\"], [\"A\", \"B\"]]"
   ]
  },
  {
   "cell_type": "markdown",
   "metadata": {},
   "source": [
    "### If we want to print the columns of a specific row"
   ]
  },
  {
   "cell_type": "code",
   "execution_count": 55,
   "metadata": {},
   "outputs": [
    {
     "data": {
      "text/plain": [
       "A   -1.944534\n",
       "B    0.608699\n",
       "C   -0.431342\n",
       "Name: 2023-04-05 00:00:00, dtype: float64"
      ]
     },
     "execution_count": 55,
     "metadata": {},
     "output_type": "execute_result"
    }
   ],
   "source": [
    "df.loc[\"20230405\", [\"A\", \"B\", \"C\"]]"
   ]
  }
 ],
 "metadata": {
  "interpreter": {
   "hash": "19219e63909b0dbdf9d025082828665cd9c634ad05040b760178007d2c0f3d09"
  },
  "kernelspec": {
   "display_name": "Python 3.10.4 64-bit",
   "language": "python",
   "name": "python3"
  },
  "language_info": {
   "codemirror_mode": {
    "name": "ipython",
    "version": 3
   },
   "file_extension": ".py",
   "mimetype": "text/x-python",
   "name": "python",
   "nbconvert_exporter": "python",
   "pygments_lexer": "ipython3",
   "version": "3.10.4"
  },
  "orig_nbformat": 4
 },
 "nbformat": 4,
 "nbformat_minor": 2
}
